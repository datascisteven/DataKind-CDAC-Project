{
 "cells": [
  {
   "cell_type": "markdown",
   "source": [
    "# Tableau Preliminary EDA Visualizations"
   ],
   "metadata": {}
  },
  {
   "cell_type": "markdown",
   "source": [
    "The links for the interactive versions on Tableau Public are:\n",
    "\n",
    "[NYC Metro Area](https://public.tableau.com/views/DataKIndUCCDACProjectPreliminaryEDA-NYCMetro/NYCMetroArea?:language=en-US&:display_count=n&:origin=viz_share_link)\n",
    "\n",
    "[Chicagoland Area](https://public.tableau.com/views/DataKIndUCCDACProjectPreliminaryEDA-Chicago/Chicagoland?:language=en-US&:display_count=n&:origin=viz_share_link)\n",
    "\n",
    "I may have guessed the columns in the ACS database incorrectly, and changes still need to be made to incorporate the work from 1A, as well as finding a better way to connect MHI or race to the download rate. If you hover over each tract, I provided the other relevant information for some of the FCC and Oookla visualizations.\n",
    "\n",
    "Any feedback or suggestions would be greatly appreciated."
   ],
   "metadata": {}
  },
  {
   "cell_type": "markdown",
   "source": [
    "<img src=\"images/fcc_download_ny.png\">"
   ],
   "metadata": {}
  },
  {
   "cell_type": "markdown",
   "source": [
    "<img src=\"images/hisp_pop_nyc.png\">"
   ],
   "metadata": {}
  },
  {
   "cell_type": "markdown",
   "source": [
    "<img src=\"images/mhi_nyc.png\">"
   ],
   "metadata": {}
  },
  {
   "cell_type": "markdown",
   "source": [
    "<img src=\"images/ookla_download_nyc.png\">"
   ],
   "metadata": {}
  }
 ],
 "metadata": {
  "orig_nbformat": 4,
  "language_info": {
   "name": "python",
   "version": "3.9.4"
  },
  "kernelspec": {
   "name": "python3",
   "display_name": "Python 3.9.4 64-bit ('learn-env': conda)"
  },
  "interpreter": {
   "hash": "80773cdecc613a186b9eac051636553d2ff0f99c57590601666ed713bd5d0256"
  }
 },
 "nbformat": 4,
 "nbformat_minor": 2
}