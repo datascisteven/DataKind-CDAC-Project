{
 "cells": [
  {
   "cell_type": "code",
   "execution_count": 1,
   "metadata": {},
   "outputs": [],
   "source": [
    "import geopandas as gpd\n",
    "import numpy as np\n",
    "\n",
    "from shapely.geometry import Point"
   ]
  },
  {
   "cell_type": "markdown",
   "metadata": {},
   "source": [
    "## Ookla vs Census "
   ]
  },
  {
   "cell_type": "code",
   "execution_count": 2,
   "metadata": {},
   "outputs": [],
   "source": [
    "tests = gpd.read_file(\"/media/jsaxon/brobdingnag/data/ookla/ookla/chicago.geojson\")\n",
    "place = gpd.read_file(\"/media/jsaxon/brobdingnag/data/ookla/places/chicago.geojson\")"
   ]
  },
  {
   "cell_type": "code",
   "execution_count": 3,
   "metadata": {},
   "outputs": [],
   "source": [
    "tracts = gpd.read_postgis(\"SELECT tr.geoid, tr.geom geom, log_mhi, black, total_pop \"\n",
    "                          \"FROM census_place_2018 pl, census_tracts_2018 tr, acsprofile5y2017 pr \"\n",
    "                          \"WHERE pl.top20 and pl.name = 'Chicago' AND pl.state = tr.state AND \"\n",
    "                          \"tr.state = pr.state AND tr.county = pr.county AND tr.tract = pr.tract AND \"\n",
    "                          \"ST_Area(ST_Intersection(pl.geom, tr.geom)) > ST_Area(tr.geom) / 2\", \n",
    "                          crs = \"EPSG:2163\", geom_col = \"geom\", con = cen_con).to_crs(\"EPSG:3528\")"
   ]
  },
  {
   "cell_type": "code",
   "execution_count": 4,
   "metadata": {},
   "outputs": [],
   "source": [
    "bounds = tests.geometry.bounds\n",
    "\n",
    "for s in set(bounds.columns):\n",
    "    tests[s] = bounds[s]\n",
    "    \n",
    "tests[\"rangex\"] = tests[\"maxx\"] - tests[\"minx\"]\n",
    "tests[\"rangey\"] = tests[\"maxy\"] - tests[\"miny\"]\n",
    "tests[\"ookla_fixed_devices_q3\"] = tests[\"ookla_fixed_devices_q3\"].fillna(0)"
   ]
  },
  {
   "cell_type": "code",
   "execution_count": 5,
   "metadata": {},
   "outputs": [],
   "source": [
    "points = []\n",
    "for ri, row in tests.iterrows():\n",
    "    \n",
    "    for x in range(int(row.ookla_fixed_devices_q3)):\n",
    "        points.append(Point(np.array([row.minx + row.rangex * np.random.random(),\n",
    "                                      row.miny + row.rangey * np.random.random()])))\n",
    "        \n",
    "tests_geo = gpd.GeoDataFrame(geometry = points, crs = \"EPSG:4326\").to_crs(tracts.crs)"
   ]
  },
  {
   "cell_type": "code",
   "execution_count": 6,
   "metadata": {},
   "outputs": [],
   "source": [
    "tests_points = gpd.sjoin(tests_geo, tracts, op = \"within\")\n",
    "tests_points = tests_points.groupby(\"geoid\").count().rename(columns = {\"geometry\" : \"N\"}).reset_index()\n",
    "tests_points = tests_points[[\"geoid\", \"N\"]]\n",
    "\n",
    "tests_points = pd.merge(tests_points, tracts[[\"geoid\", \"log_mhi\", \"black\", \"total_pop\"]]).dropna()"
   ]
  },
  {
   "cell_type": "code",
   "execution_count": 18,
   "metadata": {},
   "outputs": [
    {
     "data": {
      "text/plain": [
       "<matplotlib.legend.Legend at 0x7fc2ef3678d0>"
      ]
     },
     "execution_count": 18,
     "metadata": {},
     "output_type": "execute_result"
    },
    {
     "data": {
      "image/png": "[encoded data removed]",
      "text/plain": [
       "<Figure size 432x288 with 1 Axes>"
      ]
     },
     "metadata": {
      "needs_background": "light"
     },
     "output_type": "display_data"
    }
   ],
   "source": [
    "fig, ax = plt.subplots()\n",
    "\n",
    "tests_points.log_mhi.hist(weights = tests_points.N / tests_points.N.sum(), \n",
    "                          bins = np.arange(9, 12.5, 0.1),\n",
    "                          histtype = \"step\", lw = \"3\", label = \"Ookla Devices\", ax = ax)\n",
    "\n",
    "tests_points.log_mhi.hist(weights = tests_points.total_pop / tests_points.total_pop.sum(), \n",
    "                          bins = np.arange(9, 12.5, 0.1),\n",
    "                          histtype = \"step\", lw = \"3\", label = \"Census\", ax = ax)\n",
    "\n",
    "ax.legend(loc = \"upper left\")"
   ]
  },
  {
   "cell_type": "markdown",
   "metadata": {},
   "source": [
    "## SamKnows"
   ]
  },
  {
   "cell_type": "code",
   "execution_count": 8,
   "metadata": {},
   "outputs": [],
   "source": [
    "us4326 = gpd.read_postgis(\"SELECT geoid, ST_Transform(geomsimp, 4326) geom FROM census_tracts_2018;\",\n",
    "                          con = cen_con, geom_col = \"geom\", crs = \"EPSG:4326\")\n",
    "\n",
    "prof17 = pd.read_sql(\"SELECT geoid, log_mhi, black, total_pop FROM acsprofile5y2017;\", con = cen_con)"
   ]
  },
  {
   "cell_type": "code",
   "execution_count": 9,
   "metadata": {},
   "outputs": [],
   "source": [
    "sk = pd.read_excel(\"data/sk_sept2018.xlsx\")\n",
    "sk.rename(columns = {\"unit id\" : \"unit_id\"}, inplace = True)\n",
    "sk.query(\"(geog_type == 'blockgroup') | (geog_type == 'tract')\", inplace = True)\n",
    "\n",
    "geo_sk= gpd.GeoSeries([Point(xy) for xy in sk[[\"longitude\", \"latitude\"]].values], \n",
    "                      index = sk.index, crs = \"EPSG:4326\")\n",
    "\n",
    "geo_sk = gpd.GeoDataFrame(data = sk, geometry = geo_sk, crs = \"EPSG:4326\")"
   ]
  },
  {
   "cell_type": "code",
   "execution_count": 10,
   "metadata": {},
   "outputs": [],
   "source": [
    "sk_tr18 = gpd.sjoin(geo_sk, us4326, op = \"within\")[[\"unit_id\", \"geoid\"]]\n",
    "sk_tr18 = sk_tr18.sort_values(\"unit_id\").reset_index(drop = True)\n",
    "sk_tr18 = sk_tr18.sort_values(\"unit_id\")"
   ]
  },
  {
   "cell_type": "markdown",
   "metadata": {},
   "source": [
    "### Do we lose any observations by using 2017 vs 2018?  No."
   ]
  },
  {
   "cell_type": "code",
   "execution_count": 11,
   "metadata": {},
   "outputs": [
    {
     "data": {
      "text/plain": [
       "True"
      ]
     },
     "execution_count": 11,
     "metadata": {},
     "output_type": "execute_result"
    }
   ],
   "source": [
    "pd.merge(sk_tr18, prof17).shape[0] == sk_tr18.shape[0]"
   ]
  },
  {
   "cell_type": "code",
   "execution_count": 14,
   "metadata": {},
   "outputs": [],
   "source": [
    "sk_tr18 = pd.merge(sk_tr18, prof17)"
   ]
  },
  {
   "cell_type": "markdown",
   "metadata": {},
   "source": [
    "### Plot SamKnows vs Census samples"
   ]
  },
  {
   "cell_type": "code",
   "execution_count": 16,
   "metadata": {},
   "outputs": [
    {
     "data": {
      "text/plain": [
       "<matplotlib.legend.Legend at 0x7fc2ef417fd0>"
      ]
     },
     "execution_count": 16,
     "metadata": {},
     "output_type": "execute_result"
    },
    {
     "data": {
      "image/png": "[encoded data removed]",
      "text/plain": [
       "<Figure size 432x288 with 1 Axes>"
      ]
     },
     "metadata": {
      "needs_background": "light"
     },
     "output_type": "display_data"
    }
   ],
   "source": [
    "fig, ax = plt.subplots()\n",
    "\n",
    "ax.set_xlabel(\"Log of Tract Median Household Income\")\n",
    "\n",
    "sk_tr18[\"w\"] = 1.0 / sk_tr18.count().unit_id\n",
    "sk_tr18.log_mhi.hist(bins = np.arange(9.5, 12.5, 0.1), histtype = \"step\",\n",
    "                     weights = sk_tr18.w, lw = 3, label = \"SamKnows\", ax = ax)\n",
    "\n",
    "prof17_no_na = prof17[[\"log_mhi\", \"total_pop\"]].dropna()\n",
    "prof17_no_na[\"w\"] = prof17_no_na.total_pop / prof17_no_na.total_pop.sum()\n",
    "prof17_no_na.log_mhi.hist(bins = np.arange(9.5, 12.5, 0.1), \n",
    "                          weights = prof17_no_na.w,\n",
    "                          histtype = \"step\", lw = 3, ax = ax, label = \"Census\")\n",
    "\n",
    "ax.legend()"
   ]
  },
  {
   "cell_type": "code",
   "execution_count": 17,
   "metadata": {},
   "outputs": [
    {
     "data": {
      "text/plain": [
       "<matplotlib.legend.Legend at 0x7fc2ef417f50>"
      ]
     },
     "execution_count": 17,
     "metadata": {},
     "output_type": "execute_result"
    },
    {
     "data": {
      "image/png": "[encoded data removed]",
      "text/plain": [
       "<Figure size 432x288 with 1 Axes>"
      ]
     },
     "metadata": {
      "needs_background": "light"
     },
     "output_type": "display_data"
    }
   ],
   "source": [
    "fig, ax = plt.subplots()\n",
    "\n",
    "ax.set_xlabel(\"Share of Tract Population Black\")\n",
    "\n",
    "sk_tr18[\"w\"] = 1.0 / sk_tr18.count().unit_id\n",
    "sk_tr18.black.hist(bins = np.arange(0, 1.01, 0.05), histtype = \"step\",\n",
    "                     weights = sk_tr18.w, lw = 3, label = \"SamKnows\", ax = ax)\n",
    "\n",
    "prof17_no_na = prof17[[\"black\", \"total_pop\"]].dropna()\n",
    "prof17_no_na[\"w\"] = prof17_no_na.total_pop / prof17_no_na.total_pop.sum()\n",
    "prof17_no_na.black.hist(bins = np.arange(0, 1.01, 0.05), \n",
    "                          weights = prof17_no_na.w,\n",
    "                          histtype = \"step\", lw = 3, ax = ax, label = \"Census\")\n",
    "\n",
    "ax.legend()"
   ]
  },
  {
   "cell_type": "code",
   "execution_count": null,
   "metadata": {},
   "outputs": [],
   "source": []
  }
 ],
 "metadata": {
  "kernelspec": {
   "display_name": "Python 3",
   "language": "python",
   "name": "python3"
  },
  "language_info": {
   "codemirror_mode": {
    "name": "ipython",
    "version": 3
   },
   "file_extension": ".py",
   "mimetype": "text/x-python",
   "name": "python",
   "nbconvert_exporter": "python",
   "pygments_lexer": "ipython3",
   "version": "3.7.7"
  }
 },
 "nbformat": 4,
 "nbformat_minor": 4
}
